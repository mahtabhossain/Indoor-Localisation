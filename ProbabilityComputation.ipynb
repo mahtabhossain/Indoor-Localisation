{
  "nbformat": 4,
  "nbformat_minor": 0,
  "metadata": {
    "colab": {
      "name": "ProbabilityComputation.ipynb",
      "provenance": [],
      "collapsed_sections": [],
      "authorship_tag": "ABX9TyMDNlbdfR+9taG+tBHZnEIh",
      "include_colab_link": true
    },
    "kernelspec": {
      "name": "python3",
      "display_name": "Python 3"
    }
  },
  "cells": [
    {
      "cell_type": "markdown",
      "metadata": {
        "id": "view-in-github",
        "colab_type": "text"
      },
      "source": [
        "<a href=\"https://colab.research.google.com/github/mahtabhossain/Indoor-Localisation/blob/master/ProbabilityComputation.ipynb\" target=\"_parent\"><img src=\"https://colab.research.google.com/assets/colab-badge.svg\" alt=\"Open In Colab\"/></a>"
      ]
    },
    {
      "cell_type": "code",
      "metadata": {
        "id": "NdcN04hz4qGW",
        "colab_type": "code",
        "colab": {
          "base_uri": "https://localhost:8080/",
          "height": 35
        },
        "outputId": "dd8af879-b800-4404-8261-1b61eef21a6d"
      },
      "source": [
        "## suppose, there are n APs\n",
        "## there names are ordered here using 1, 2, ...., n\n",
        "## this is quite an important part to remember: identifier indices for each AP\n",
        "n = 10  # number of total APs\n",
        "lst = [x for x in range(n)]\n",
        "\n",
        "## for each AP, build the dictionary\n",
        "## histogram is kept as dictionary, e.g., if AP1=-60 is seen 4 times\n",
        "## and AP1=-90 is seen 8 times, the following is the resultant dictionary for histogram\n",
        "## do not consider where the values are 100: it means the AP is not seen\n",
        "AP1 = {-60:4, -90:8}    # AP1 : apriori values\n",
        "sumAP1 = sum(AP1.values()) # keeping track the total number of times AP1 is seen\n",
        "\n",
        "## Also required dictionary for each AP when it is seen together with AP1\n",
        "## AP2 values histogram when it is seen together with AP1\n",
        "AP21 = {-60:2, -70:1} # AP2 given AP1: posteriori values\n",
        "sumAP21 = sum(AP21.values()) # keeping track the total number of times AP1 & AP2 seen together\n",
        "\n",
        "## resultant data structure\n",
        "posteriori = dict() # stores all the above calculated histograms....\n",
        "posteriori[0] = dict()  # stores the values where AP1 is seen\n",
        "\n",
        "# first the apriori always as [x][x] index\n",
        "# for AP1: it is [0][0], for AP2, it will be [1][1], etc.\n",
        "posteriori[0][0] = [sumAP1, AP1]    # keeping as list: not as tuple - just to be safe if they need to be changed later\n",
        "posteriori[0][1] = [sumAP21, AP21] \n",
        "# ..... repeat for all the other APs where it can be seen together with AP1\n",
        "\n",
        "## this process has to be repeated for all APs\n",
        "## after which P(APx=-60) and P(APx=-60|APy) can be computed from posteriori variable\n",
        "print(posteriori)"
      ],
      "execution_count": 6,
      "outputs": [
        {
          "output_type": "stream",
          "text": [
            "{0: {0: [12, {-60: 4, -90: 8}], 1: [3, {-60: 2, -70: 1}]}}\n"
          ],
          "name": "stdout"
        }
      ]
    },
    {
      "cell_type": "code",
      "metadata": {
        "id": "X2-alE279Au2",
        "colab_type": "code",
        "colab": {
          "base_uri": "https://localhost:8080/",
          "height": 35
        },
        "outputId": "561273ec-47ad-43ba-ae1d-303971c89cac"
      },
      "source": [
        "## suppose, there are L locations\n",
        "## for each AP, build the dictionary for P(Location_1|APx), P(Location_2|APx)......P(Location_L|APx)\n",
        "AP1 = {'Location_1':2, 'Location_2':10}\n",
        "sumAP1 = sum(AP1.values()) # keeping track the total number of times AP1 across all rooms\n",
        "\n",
        "## resultant data structure for locations....\n",
        "location = dict() # stores all the above calculated histograms....\n",
        "location[0] = [sumAP1, AP1]    # keeping as list: not as tuple - just to be safe if they need to be changed later\n",
        "# ..... repeat for all the locations where it can be seen together with AP1\n",
        "\n",
        "## this process has to be repeated for all APs\n",
        "## after which P(Room1|APx) can be computed from location variable\n",
        "print(location)\n",
        "\n",
        "## it might be even concatenated with the posteriori variable above\n",
        "## may be keep it separate for simplicity"
      ],
      "execution_count": 7,
      "outputs": [
        {
          "output_type": "stream",
          "text": [
            "{0: [12, {'Location_1': 2, 'Location_2': 10}]}\n"
          ],
          "name": "stdout"
        }
      ]
    },
    {
      "cell_type": "code",
      "metadata": {
        "id": "e1Ev3AMg5z7w",
        "colab_type": "code",
        "colab": {}
      },
      "source": [
        "## P(APy = -60 | Room1, APx = -70) type probability needs to be computed....\n",
        "## may be a function\n",
        "## def findProb(location, APx-identifier, APx-value, APy-identifier, APy-value):\n",
        "##    need to utilise groupby, etc.\n",
        "##    return the probability given the five arguments"
      ],
      "execution_count": 0,
      "outputs": []
    }
  ]
}