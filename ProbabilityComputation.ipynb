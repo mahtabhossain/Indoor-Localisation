{
  "nbformat": 4,
  "nbformat_minor": 0,
  "metadata": {
    "colab": {
      "name": "ProbabilityComputation.ipynb",
      "provenance": [],
      "collapsed_sections": [],
      "authorship_tag": "ABX9TyPNg+wb3ybuu7IU2MdBXaqr",
      "include_colab_link": true
    },
    "kernelspec": {
      "name": "python3",
      "display_name": "Python 3"
    }
  },
  "cells": [
    {
      "cell_type": "markdown",
      "metadata": {
        "id": "view-in-github",
        "colab_type": "text"
      },
      "source": [
        "<a href=\"https://colab.research.google.com/github/mahtabhossain/Indoor-Localisation/blob/master/ProbabilityComputation.ipynb\" target=\"_parent\"><img src=\"https://colab.research.google.com/assets/colab-badge.svg\" alt=\"Open In Colab\"/></a>"
      ]
    },
    {
      "cell_type": "code",
      "metadata": {
        "id": "z-DymRnczw73",
        "colab_type": "code",
        "colab": {
          "base_uri": "https://localhost:8080/",
          "height": 73
        },
        "outputId": "e1347587-1877-4c5a-895a-348b83307d63"
      },
      "source": [
        "import pandas as pd\n",
        "\n",
        "import numpy as np\n",
        "import matplotlib.pyplot as plt\n",
        "import seaborn as sns\n",
        "\n",
        "# Hide all warning messages\n",
        "import warnings\n",
        "warnings.filterwarnings('ignore')"
      ],
      "execution_count": 1,
      "outputs": [
        {
          "output_type": "stream",
          "text": [
            "/usr/local/lib/python3.6/dist-packages/statsmodels/tools/_testing.py:19: FutureWarning: pandas.util.testing is deprecated. Use the functions in the public API at pandas.testing instead.\n",
            "  import pandas.util.testing as tm\n"
          ],
          "name": "stderr"
        }
      ]
    },
    {
      "cell_type": "markdown",
      "metadata": {
        "id": "O6W4vQamzVUx",
        "colab_type": "text"
      },
      "source": [
        "<h1>1. Input Preprocessing</h1>\n",
        "Read the training dataset. Then, from the unique location identifier from the location attributes of this dataset - they are FLOOR, BUILDINGID, SPACEID, RELATIVEPOSITION. Combine these four into one uniqe identifier, and associate it to each row of fingerprint (RSS values from wireless APs)."
      ]
    },
    {
      "cell_type": "code",
      "metadata": {
        "id": "zCn93nPGzS7d",
        "colab_type": "code",
        "outputId": "a5d29319-c2cd-4ee4-88b0-1ac86c88734e",
        "colab": {
          "base_uri": "https://localhost:8080/",
          "height": 267
        }
      },
      "source": [
        "# Reading the input file from the URL of the trainingData\n",
        "filename = 'http://www.cs.ucc.ie/~mh23/inputData/DoCalculus/trainingData.csv'\n",
        "df1 = pd.read_csv(filename, ',')\n",
        "#End of file read part\n",
        "\n",
        "print (df1.dtypes)  # viewing the actual data types\n",
        "\n",
        "print ('The number of  features in the data frame is: ',df1.shape[1])\n",
        "print ('The number of datapoints in the data frame is: ',df1.shape[0])"
      ],
      "execution_count": 2,
      "outputs": [
        {
          "output_type": "stream",
          "text": [
            "WAP001              int64\n",
            "WAP002              int64\n",
            "WAP003              int64\n",
            "WAP004              int64\n",
            "WAP005              int64\n",
            "                    ...  \n",
            "SPACEID             int64\n",
            "RELATIVEPOSITION    int64\n",
            "USERID              int64\n",
            "PHONEID             int64\n",
            "TIMESTAMP           int64\n",
            "Length: 529, dtype: object\n",
            "The number of  features in the data frame is:  529\n",
            "The number of datapoints in the data frame is:  19937\n"
          ],
          "name": "stdout"
        }
      ]
    },
    {
      "cell_type": "code",
      "metadata": {
        "id": "zcVCxX9d0l-k",
        "colab_type": "code",
        "outputId": "419ae4c6-49a9-4fa1-d14f-5ab93284c87e",
        "colab": {
          "base_uri": "https://localhost:8080/",
          "height": 71
        }
      },
      "source": [
        "# formulating the column names for the different APs:\n",
        "# AP1 index is: 0, the output: WAP000\n",
        "# AP2 index is: 1, the output: WAP002\n",
        "# .....\n",
        "def formatWPString(i):\n",
        "  # if only one number, add two leading zeros, if two, add one leading zero, if three, no zero\n",
        "  s = 'WAP'+'00'+str(i) if (i < 10) else ('WAP'+'0'+str(i) if (i<100) else 'WAP'+str(i))\n",
        "  return s\n",
        "\n",
        "# copying the whole dataset\n",
        "df2 = df1.copy()\n",
        "# dropping phoneID, userID and Timestamp columns\n",
        "df2.drop(df2.columns[df2.shape[1]-3:df2.shape[1]], axis=1, inplace=True)\n",
        "\n",
        "# FLOOR, BUILDINGID, SPACEID, RELATIVEPOSITION\n",
        "# indoor location identifier 'location_id' column by combining them\n",
        "df2['location_id'] = df2[df2.columns[522:526]].apply(\n",
        "    lambda x: ''.join(x.dropna().astype(str)),\n",
        "    axis=1\n",
        ")\n",
        "\n",
        "# dropping all the other columns except the APs, and indoor location identifier\n",
        "df2.drop(df2.columns[df2.shape[1]-7:df2.shape[1]-1], axis=1, inplace=True)\n",
        "# shows the number of unique indoor locations\n",
        "print('The number of unique locations: ', len(df2['location_id'].unique().tolist()))\n",
        "print('The dataset shape with only location identifier and AP columns: ', df2.shape)\n",
        "print('There are %d records, and %d APs across the testbed' % (df2.shape[0], df2.shape[1]-1))"
      ],
      "execution_count": 3,
      "outputs": [
        {
          "output_type": "stream",
          "text": [
            "The number of unique locations:  905\n",
            "The dataset shape with only location identifier and AP columns:  (19937, 521)\n",
            "There are 19937 records, and 520 APs across the testbed\n"
          ],
          "name": "stdout"
        }
      ]
    },
    {
      "cell_type": "markdown",
      "metadata": {
        "id": "AX1dm66A5Pe1",
        "colab_type": "text"
      },
      "source": [
        "<h1>2. Probability Computation</h1>\n",
        "<h2>2.1 First Approach</h2>\n",
        "<ul>\n",
        "<li>P(APy)</li>\n",
        "<li>P(APy | APx)</li>\n",
        "<li>P(location_id | APx)</li>\n",
        "<li>P(APy | location_id, APx)</li>\n",
        "</ul>"
      ]
    },
    {
      "cell_type": "code",
      "metadata": {
        "id": "NdcN04hz4qGW",
        "colab_type": "code",
        "outputId": "c103f189-4980-4163-c8aa-be5b357d558d",
        "colab": {
          "base_uri": "https://localhost:8080/",
          "height": 35
        }
      },
      "source": [
        "## suppose, there are n APs\n",
        "## their names are ordered here using 1, 2, ...., n\n",
        "## this is quite an important part to remember: identifier indices for each AP\n",
        "n = 10  # number of total APs\n",
        "lst = [x for x in range(n)]\n",
        "\n",
        "## for each AP, build the dictionary\n",
        "## histogram is kept as dictionary, e.g., if AP1=-60 is seen 4 times\n",
        "## and AP1=-90 is seen 8 times, the following is the resultant dictionary for histogram\n",
        "## do not consider where the values are 100: it means the AP is not seen\n",
        "AP1 = {-60:4, -90:8}    # AP1 : apriori values\n",
        "sumAP1 = sum(AP1.values()) # keeping track the total number of times AP1 is seen\n",
        "\n",
        "## Also required dictionary for each AP when it is seen together with AP1\n",
        "## AP2 values histogram when it is seen together with AP1\n",
        "AP21 = {-60:2, -70:1} # AP2 given AP1: posteriori values\n",
        "sumAP21 = sum(AP21.values()) # keeping track the total number of times AP1 & AP2 seen together\n",
        "\n",
        "## resultant data structure\n",
        "posteriori = dict() # stores all the above calculated histograms....\n",
        "posteriori[0] = dict()  # stores the values where AP1 is seen\n",
        "\n",
        "# first the apriori always as [x][x] index\n",
        "# for AP1: it is [0][0], for AP2, it will be [1][1], etc.\n",
        "posteriori[0][0] = [sumAP1, AP1]    # keeping as list: not as tuple - just to be safe if they need to be changed later\n",
        "posteriori[0][1] = [sumAP21, AP21] \n",
        "# ..... repeat for all the other APs where it can be seen together with AP1\n",
        "\n",
        "## this process has to be repeated for all APs\n",
        "## after which P(APx=-60) and P(APx=-60|APy) can be computed from posteriori variable\n",
        "print(posteriori)"
      ],
      "execution_count": 4,
      "outputs": [
        {
          "output_type": "stream",
          "text": [
            "{0: {0: [12, {-60: 4, -90: 8}], 1: [3, {-60: 2, -70: 1}]}}\n"
          ],
          "name": "stdout"
        }
      ]
    },
    {
      "cell_type": "code",
      "metadata": {
        "id": "X2-alE279Au2",
        "colab_type": "code",
        "outputId": "2d51a8ae-9fc3-4431-b2d9-b7d9dce4774d",
        "colab": {
          "base_uri": "https://localhost:8080/",
          "height": 35
        }
      },
      "source": [
        "## suppose, there are L locations\n",
        "## for each AP, build the dictionary for P(Location_1|APx), P(Location_2|APx)......P(Location_L|APx)\n",
        "AP1 = {'Location_1':2, 'Location_2':10}\n",
        "sumAP1 = sum(AP1.values()) # keeping track the total number of times AP1 across all rooms\n",
        "\n",
        "## resultant data structure for locations....\n",
        "location = dict() # stores all the above calculated histograms....\n",
        "location[0] = [sumAP1, AP1]    # keeping as list: not as tuple - just to be safe if they need to be changed later\n",
        "# ..... repeat for all the locations where it can be seen together with AP1\n",
        "\n",
        "## this process has to be repeated for all APs\n",
        "## after which P(Room1|APx) can be computed from location variable\n",
        "print(location)\n",
        "\n",
        "## it might be even concatenated with the posteriori variable above\n",
        "## may be keep it separate for simplicity"
      ],
      "execution_count": 5,
      "outputs": [
        {
          "output_type": "stream",
          "text": [
            "{0: [12, {'Location_1': 2, 'Location_2': 10}]}\n"
          ],
          "name": "stdout"
        }
      ]
    },
    {
      "cell_type": "code",
      "metadata": {
        "id": "e1Ev3AMg5z7w",
        "colab_type": "code",
        "colab": {}
      },
      "source": [
        "## P(APy = -60 | Room1, APx = -70) type probability needs to be computed....\n",
        "## may be a function\n",
        "## def findProb(location, APx-identifier, APx-value, APy-identifier, APy-value):\n",
        "##    need to utilise groupby, etc.\n",
        "##    return the probability given the five arguments"
      ],
      "execution_count": 0,
      "outputs": []
    },
    {
      "cell_type": "markdown",
      "metadata": {
        "id": "VCU2Q50e7ZWM",
        "colab_type": "text"
      },
      "source": [
        "<h2>2.2 Second Approach</h2>"
      ]
    }
  ]
}